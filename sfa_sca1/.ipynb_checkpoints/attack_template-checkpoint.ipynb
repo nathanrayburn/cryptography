{
 "cells": [
  {
   "cell_type": "markdown",
   "metadata": {},
   "source": [
    "### Description:\n",
    "\n",
    "AES-128 algorithm with a hardcoded key is available as service.\n",
    "\n",
    "To perform encryption, the service requires 16-bytes plaintext (in hex):\n",
    "\n",
    "```\n",
    "    https://training.usec.ch/student/sca1?ptext=00112233445566778899aabbccddeeff\n",
    "```    \n",
    "The result is JSON data\n",
    "```\n",
    "    {\"ctext\":\"EB944E460582EE9FF1C65AC368ADA13C\",\"trace\":\"4FE6247265A174AE9D32A3B105477D8F\"}\n",
    "\n",
    "```    \n",
    "where:\n",
    "```\n",
    "    EB944E460582EE9FF1C65AC368ADA13C is a ciphertext\n",
    "    \n",
    "    4FE6247265A174AE9D32A3B105477D8F is a trace (information left by a programmer)\n",
    "```\n",
    "### Tips:\n",
    "\n",
    "A 'trace' is a side-channel information left by a programmer to debug the implementation.\n",
    "\n",
    "In this example a trace is a 10th round input state of the AES-128 algorithm, i.e., a State before the Sbox operation in the last round.\n",
    "\n",
    "### Task:\n",
    "\n",
    "Your task is to find the Master key (round key 0) embedded into the binary. \n",
    "\n",
    "The master key is in the form of SCA{XXXXXXXXXX}, where X is an ASCII printable symbol."
   ]
  },
  {
   "cell_type": "markdown",
   "metadata": {},
   "source": [
    "### Leakage illustration\n",
    "\n",
    "<img src=\"support/Slide.png\">"
   ]
  },
  {
   "cell_type": "code",
   "execution_count": 3,
   "metadata": {},
   "outputs": [],
   "source": [
    "import numpy as np\n",
    "import binascii\n",
    "import string\n",
    "\n",
    "import sca_training\n",
    "#----------------------------------------------------------------------------\n",
    "# This function calls tested service either with a user-defined \n",
    "# plaintext (if plaintext satisfies all the requirements) or with a \n",
    "# predefined plaintext (the same as in the header above)\n",
    "#\n",
    "# INPUTS:\n",
    "#     plaintext - a string of 32 symbols representing 16 hex bytes of ciphertext\n",
    "#     verbose   - a flag to print values in the function call or not\n",
    "# OUTPUTS:\n",
    "#     output  - a raw JSON output\n",
    "#     ctext   - resulted ciphertext converted to numpy array of uint8\n",
    "#     trace   - a trace associated with encryption process\n",
    "#----------------------------------------------------------------------------\n",
    "def binary_aes128_encrypt(plaintext, verbose=False):\n",
    "    import requests\n",
    "    \n",
    "    if all(c in string.hexdigits for c in plaintext) and len(plaintext) == 32:\n",
    "        output = requests.get(\"https://training.usec.ch/student/sca1?ptext=\"+plaintext).json()\n",
    "    else:\n",
    "        output = requests.get(\"https://training.usec.ch/student/sca1?ptext=00112233445566778899aabbccddeeff\").json()\n",
    "    \n",
    "    #Transform the result into numpy array\n",
    "    ctext = np.frombuffer(binascii.unhexlify(output[\"ctext\"]), dtype=np.uint8)\n",
    "    trace = np.frombuffer(binascii.unhexlify(output[\"trace\"]), dtype=np.uint8)\n",
    "\n",
    "    if (verbose):\n",
    "        print('Binary output:', output)\n",
    "        print('Ciphertext as numpy array:', ctext)\n",
    "        print('Trace as numpy array:', trace)\n",
    "    \n",
    "    return output, ctext, trace\n",
    "\n",
    "\n",
    "#----------------------------------------------------------------------------\n",
    "# This function calls supportive library to compute a master key from\n",
    "# the last round key.\n",
    "#\n",
    "# INPUTS:\n",
    "#     last_round_key - a numpy array of 16 elements representing 16 hex bytes of\n",
    "#                      the last round key, i.e., Round Key 10\n",
    "# OUTPUTS:\n",
    "#     key_schedule  - 11 round keys of 16 bytes each (key_schedule[0,0,:] is the\n",
    "#                     master key\n",
    "#----------------------------------------------------------------------------\n",
    "# key_schedule = sca_training.inverse_key_expansion(last_round_key)"
   ]
  },
  {
   "cell_type": "code",
   "execution_count": 4,
   "metadata": {},
   "outputs": [
    {
     "name": "stdout",
     "output_type": "stream",
     "text": [
      "Binary output: {'ctext': 'D1AEF6A6BD1CBBAC960C87E554928438', 'trace': 'B6CB6579085051113440FB755B1188A8'}\n",
      "Ciphertext as numpy array: [209 174 246 166 189  28 187 172 150  12 135 229  84 146 132  56]\n",
      "Trace as numpy array: [182 203 101 121   8  80  81  17  52  64 251 117  91  17 136 168]\n"
     ]
    }
   ],
   "source": [
    "output, ctext, trace = binary_aes128_encrypt(\"010203040506070809000a0b0c0d0e1f\", verbose=True)"
   ]
  },
  {
   "cell_type": "markdown",
   "metadata": {},
   "source": [
    "### ATTACK CODE\n",
    "Here you need to implement your attack which gives you the last round key.\n",
    "\n",
    "Once the last round key is found - you need to compute the master key: this can be done with the function get_master_key()\n",
    "\n",
    "### Programming tips\n",
    "#### Numpy code\n",
    "* np.arange(256).astype(np.uint8)\n",
    "* np.bitwise_xor(m1, m2)\n",
    "* np.where()\n",
    "\n",
    "#### Code prepared for training\n",
    "* sca_training.invSbox[sbox_out]\n",
    "* sca_training.shift_rows(trace)\n",
    "\n",
    "#### Various cod\n",
    "* ''.join('{:02x}'.format(c) for c in int_array)"
   ]
  },
  {
   "cell_type": "code",
   "execution_count": 6,
   "metadata": {},
   "outputs": [
    {
     "data": {
      "text/plain": [
       "'5343417b53696d706c65526f756e647d'"
      ]
     },
     "execution_count": 6,
     "metadata": {},
     "output_type": "execute_result"
    }
   ],
   "source": [
    "sbox_state = np.array([sca_training.Sbox_tab[trace[i]] for i in range(len(trace))], dtype=np.uint8)\n",
    "shift_rows_state = sca_training.shift_rows(sbox_state)\n",
    "k10 = np.bitwise_xor(ctext, shift_rows_state)\n",
    "master_key = sca_training.get_master_key(k10)\n",
    "''.join('{:02x}'.format(c) for c in master_key)\n"
   ]
  },
  {
   "cell_type": "code",
   "execution_count": null,
   "metadata": {},
   "outputs": [],
   "source": []
  }
 ],
 "metadata": {
  "kernelspec": {
   "display_name": "Python 3 (ipykernel)",
   "language": "python",
   "name": "python3"
  },
  "language_info": {
   "codemirror_mode": {
    "name": "ipython",
    "version": 3
   },
   "file_extension": ".py",
   "mimetype": "text/x-python",
   "name": "python",
   "nbconvert_exporter": "python",
   "pygments_lexer": "ipython3",
   "version": "3.13.2"
  }
 },
 "nbformat": 4,
 "nbformat_minor": 4
}
